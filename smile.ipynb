{
  "nbformat": 4,
  "nbformat_minor": 0,
  "metadata": {
    "colab": {
      "name": "smile.ipynb",
      "provenance": [],
      "private_outputs": true,
      "collapsed_sections": [],
      "include_colab_link": true
    },
    "kernelspec": {
      "name": "python3",
      "display_name": "Python 3"
    },
    "accelerator": "GPU"
  },
  "cells": [
    {
      "cell_type": "markdown",
      "metadata": {
        "id": "view-in-github",
        "colab_type": "text"
      },
      "source": [
        "<a href=\"https://colab.research.google.com/github/eyaler/stylegan/blob/master/smile.ipynb\" target=\"_parent\"><img src=\"https://colab.research.google.com/assets/colab-badge.svg\" alt=\"Open In Colab\"/></a>"
      ]
    },
    {
      "cell_type": "code",
      "metadata": {
        "id": "aOhUAgJPIOTa",
        "colab_type": "code",
        "cellView": "form",
        "colab": {}
      },
      "source": [
        "#@title Create videos from uploaded images\n",
        "%tensorflow_version 1.x\n",
        "\n",
        "from google.colab import files\n",
        "import os\n",
        "import shutil\n",
        "\n",
        "%cd /content\n",
        "shutil.rmtree('upload', ignore_errors=True)\n",
        "os.makedirs('upload', exist_ok=True)\n",
        "%cd upload\n",
        "assert files.upload(), 'file upload timed out. please try again...' #due to https://github.com/googlecolab/colabtools/issues/467\n",
        "\n",
        "%cd /content\n",
        "!git clone https://github.com/eyaler/stylegan\n",
        "%cd stylegan\n",
        "\n",
        "!python align_images.py\n",
        "assert os.listdir('face'), 'did not find any faces'\n",
        "!python encode_images.py\n",
        "!python smile.py\n",
        "\n",
        "from moviepy.editor import *\n",
        "out_path = os.path.join('..', 'output')\n",
        "vid_name = os.listdir(out_path)[-1]\n",
        "clip = VideoFileClip(os.path.join(out_path, vid_name))\n",
        "clip.ipython_display(height=512, autoplay=1, loop=1)"
      ],
      "execution_count": 0,
      "outputs": []
    },
    {
      "cell_type": "code",
      "metadata": {
        "id": "dNDAv9MN3DM2",
        "colab_type": "code",
        "cellView": "form",
        "colab": {}
      },
      "source": [
        "#@title Download videos\n",
        "print() #fix issue https://github.com/googlecolab/colabtools/issues/468\n",
        "files = sorted([os.path.join(out_path, file) for file in os.listdir(out_path)], key=os.path.getmtime)\n",
        "for file in files:\n",
        "    print('downloading: '+file))\n",
        "    files.download(file)"
      ],
      "execution_count": 0,
      "outputs": []
    }
  ]
}